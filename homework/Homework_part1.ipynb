{
 "cells": [
  {
   "cell_type": "markdown",
   "metadata": {},
   "source": [
    "# Домашнее задание"
   ]
  },
  {
   "cell_type": "markdown",
   "metadata": {},
   "source": [
    "## Григоренко Владислав"
   ]
  },
  {
   "cell_type": "markdown",
   "metadata": {},
   "source": [
    "### 1-Python"
   ]
  },
  {
   "cell_type": "markdown",
   "metadata": {},
   "source": [
    "1)"
   ]
  },
  {
   "cell_type": "markdown",
   "metadata": {},
   "source": [
    "tuple ( объявление - tuple(), или просто () ) - это список (list), значения которого мы не может поменять, а также мы не можем добавить внутрь tuple элементы. Однако значения списка внутри tuple() поменять можно, и это вполне можно сделать. Пример:"
   ]
  },
  {
   "cell_type": "code",
   "execution_count": 2,
   "metadata": {
    "collapsed": true
   },
   "outputs": [],
   "source": [
    "tuple1 = ( 1, [2, 3, 4], 6 )"
   ]
  },
  {
   "cell_type": "code",
   "execution_count": 3,
   "metadata": {},
   "outputs": [
    {
     "data": {
      "text/plain": [
       "(1, [2, 3, 4], 6)"
      ]
     },
     "execution_count": 3,
     "metadata": {},
     "output_type": "execute_result"
    }
   ],
   "source": [
    "tuple1"
   ]
  },
  {
   "cell_type": "code",
   "execution_count": 4,
   "metadata": {},
   "outputs": [
    {
     "ename": "AttributeError",
     "evalue": "'tuple' object has no attribute 'append'",
     "output_type": "error",
     "traceback": [
      "\u001b[1;31m---------------------------------------------------------------------------\u001b[0m",
      "\u001b[1;31mAttributeError\u001b[0m                            Traceback (most recent call last)",
      "\u001b[1;32m<ipython-input-4-814036737580>\u001b[0m in \u001b[0;36m<module>\u001b[1;34m()\u001b[0m\n\u001b[1;32m----> 1\u001b[1;33m \u001b[0mtuple1\u001b[0m\u001b[1;33m.\u001b[0m\u001b[0mappend\u001b[0m\u001b[1;33m(\u001b[0m\u001b[1;36m7\u001b[0m\u001b[1;33m)\u001b[0m\u001b[1;33m\u001b[0m\u001b[0m\n\u001b[0m",
      "\u001b[1;31mAttributeError\u001b[0m: 'tuple' object has no attribute 'append'"
     ]
    }
   ],
   "source": [
    "tuple1.append(7)"
   ]
  },
  {
   "cell_type": "code",
   "execution_count": 5,
   "metadata": {},
   "outputs": [
    {
     "ename": "TypeError",
     "evalue": "'tuple' object does not support item assignment",
     "output_type": "error",
     "traceback": [
      "\u001b[1;31m---------------------------------------------------------------------------\u001b[0m",
      "\u001b[1;31mTypeError\u001b[0m                                 Traceback (most recent call last)",
      "\u001b[1;32m<ipython-input-5-c49b7b54c91f>\u001b[0m in \u001b[0;36m<module>\u001b[1;34m()\u001b[0m\n\u001b[1;32m----> 1\u001b[1;33m \u001b[0mtuple1\u001b[0m\u001b[1;33m[\u001b[0m\u001b[1;36m0\u001b[0m\u001b[1;33m]\u001b[0m \u001b[1;33m=\u001b[0m \u001b[1;36m5\u001b[0m\u001b[1;33m\u001b[0m\u001b[0m\n\u001b[0m",
      "\u001b[1;31mTypeError\u001b[0m: 'tuple' object does not support item assignment"
     ]
    }
   ],
   "source": [
    "tuple1[0] = 5 "
   ]
  },
  {
   "cell_type": "code",
   "execution_count": 6,
   "metadata": {
    "collapsed": true
   },
   "outputs": [],
   "source": [
    "tuple1[1].append(5)"
   ]
  },
  {
   "cell_type": "code",
   "execution_count": 7,
   "metadata": {},
   "outputs": [
    {
     "data": {
      "text/plain": [
       "(1, [2, 3, 4, 5], 6)"
      ]
     },
     "execution_count": 7,
     "metadata": {},
     "output_type": "execute_result"
    }
   ],
   "source": [
    "tuple1"
   ]
  },
  {
   "cell_type": "markdown",
   "metadata": {},
   "source": [
    "То есть, в tuple не меняются ссылки на переменные\n",
    "\n",
    "Соответсвенно, можно использовать tuple в качестве ключа в соваре, так как он hash-ируется"
   ]
  },
  {
   "cell_type": "markdown",
   "metadata": {},
   "source": [
    "dict реализован на hash-таблице"
   ]
  },
  {
   "cell_type": "markdown",
   "metadata": {},
   "source": [
    "На Python2.x range возвращает list, а xrange возвращает generator. Это значительно повышает производительность программы.\n",
    "В версии языка Python3.x range стал генератором"
   ]
  },
  {
   "cell_type": "markdown",
   "metadata": {},
   "source": [
    "list-comprehension обеспечивает удобную работу со списком. То есть: "
   ]
  },
  {
   "cell_type": "code",
   "execution_count": 8,
   "metadata": {
    "collapsed": true
   },
   "outputs": [],
   "source": [
    "list1 = [2*(x+1) for x in range(10)]"
   ]
  },
  {
   "cell_type": "code",
   "execution_count": 9,
   "metadata": {},
   "outputs": [
    {
     "data": {
      "text/plain": [
       "[2, 4, 6, 8, 10, 12, 14, 16, 18, 20]"
      ]
     },
     "execution_count": 9,
     "metadata": {},
     "output_type": "execute_result"
    }
   ],
   "source": [
    "list1"
   ]
  },
  {
   "cell_type": "markdown",
   "metadata": {},
   "source": [
    "map позволяет применить функцию к набору чисел, то есть (для примера перевод чисел в строковый тип):"
   ]
  },
  {
   "cell_type": "code",
   "execution_count": 10,
   "metadata": {},
   "outputs": [
    {
     "name": "stdout",
     "output_type": "stream",
     "text": [
      "['2', '4', '6', '8', '10', '12', '14', '16', '18', '20']\n"
     ]
    }
   ],
   "source": [
    "print(list(map(str, list1)))"
   ]
  },
  {
   "cell_type": "markdown",
   "metadata": {},
   "source": [
    "reduce позволяет произвести вычисления с листом, например произведение всех чисел в листе:"
   ]
  },
  {
   "cell_type": "code",
   "execution_count": 76,
   "metadata": {},
   "outputs": [
    {
     "data": {
      "text/plain": [
       "3715891200"
      ]
     },
     "execution_count": 76,
     "metadata": {},
     "output_type": "execute_result"
    }
   ],
   "source": [
    "from functools import reduce\n",
    "reduce((lambda x, y : x * y), list1)"
   ]
  },
  {
   "cell_type": "markdown",
   "metadata": {},
   "source": [
    "______________________________________________________________"
   ]
  },
  {
   "cell_type": "markdown",
   "metadata": {},
   "source": [
    "2)"
   ]
  },
  {
   "cell_type": "code",
   "execution_count": 12,
   "metadata": {
    "collapsed": true
   },
   "outputs": [],
   "source": [
    "def fib(n):\n",
    "    if ((n == 1) or (n == 0)):\n",
    "        return 1;\n",
    "    return fib(n-1) + fib(n-2)\n"
   ]
  },
  {
   "cell_type": "code",
   "execution_count": 13,
   "metadata": {},
   "outputs": [
    {
     "name": "stdout",
     "output_type": "stream",
     "text": [
      "[1, 1, 2, 3, 5, 8, 13, 21, 34, 55, 89, 144, 233, 377, 610, 987, 1597, 2584, 4181, 6765]\n"
     ]
    }
   ],
   "source": [
    "print(list(map(fib, range(20))))"
   ]
  },
  {
   "cell_type": "markdown",
   "metadata": {},
   "source": [
    "Для чисел больше 30 функция уже работает достаточно долго"
   ]
  },
  {
   "cell_type": "markdown",
   "metadata": {},
   "source": [
    "_______________________________________"
   ]
  },
  {
   "cell_type": "markdown",
   "metadata": {},
   "source": [
    "3)"
   ]
  },
  {
   "cell_type": "code",
   "execution_count": 14,
   "metadata": {},
   "outputs": [
    {
     "name": "stdout",
     "output_type": "stream",
     "text": [
      "For  20 \t Result =  10946 \t Time of work 0.0029914379119873047\n",
      "For  21 \t Result =  17711 \t Time of work 0.004988908767700195\n",
      "For  22 \t Result =  28657 \t Time of work 0.007978200912475586\n",
      "For  23 \t Result =  46368 \t Time of work 0.012965917587280273\n",
      "For  24 \t Result =  75025 \t Time of work 0.0169525146484375\n",
      "For  25 \t Result =  121393 \t Time of work 0.027924537658691406\n",
      "For  26 \t Result =  196418 \t Time of work 0.04399514198303223\n",
      "For  27 \t Result =  317811 \t Time of work 0.0718083381652832\n",
      "For  28 \t Result =  514229 \t Time of work 0.12087297439575195\n",
      "For  29 \t Result =  832040 \t Time of work 0.1864945888519287\n",
      "For  30 \t Result =  1346269 \t Time of work 0.3032102584838867\n",
      "For  31 \t Result =  2178309 \t Time of work 0.48612093925476074\n",
      "For  32 \t Result =  3524578 \t Time of work 0.7870631217956543\n",
      "For  33 \t Result =  5702887 \t Time of work 1.2969691753387451\n",
      "For  34 \t Result =  9227465 \t Time of work 2.0585741996765137\n",
      "For  35 \t Result =  14930352 \t Time of work 3.301427125930786\n"
     ]
    }
   ],
   "source": [
    "import time\n",
    "for n in range(20, 36):\n",
    "    start_time = time.time()\n",
    "    result = fib(n)\n",
    "    finish_time = time.time()\n",
    "    print(\"For \", n, \"\\t Result = \", result, \"\\t Time of work\", finish_time - start_time)\n"
   ]
  },
  {
   "cell_type": "markdown",
   "metadata": {},
   "source": [
    "Время работы для n < 20 близко к 0, поэтому я его не вывожу"
   ]
  },
  {
   "cell_type": "markdown",
   "metadata": {},
   "source": [
    "__________________________________________________________"
   ]
  },
  {
   "cell_type": "markdown",
   "metadata": {},
   "source": [
    "4)"
   ]
  },
  {
   "cell_type": "code",
   "execution_count": 110,
   "metadata": {
    "collapsed": true
   },
   "outputs": [],
   "source": [
    "import math\n",
    "def work_complex(real, image):\n",
    "    \"\"\" Input of this function - 2 numbers (real and image part of complex number)\n",
    "    This function return 2 numbers.\n",
    "    First number is the module of complex number and on the second - argument\n",
    "    \n",
    "    >>> work_complex(3, 4)\n",
    "    (5.0, 0.9272952180016122)\n",
    "    >>> work_complex(1, 1)\n",
    "    (1.4142135623730951, 0.7853981633974483)\n",
    "    >>> work_complex(0, 1)\n",
    "    Traceback (most recent call last):\n",
    "        ...\n",
    "    ValueError: real must be != 0\n",
    "        \n",
    "    \"\"\"\n",
    "    if (real == 0):\n",
    "        raise ValueError(\"real must be != 0\")\n",
    "    \n",
    "    module = math.sqrt(real**2 + image**2)\n",
    "    arg = math.atan(float(image) / float(real))\n",
    "    return module, arg"
   ]
  },
  {
   "cell_type": "code",
   "execution_count": 100,
   "metadata": {},
   "outputs": [
    {
     "data": {
      "text/plain": [
       "(1.4142135623730951, 0.7853981633974483)"
      ]
     },
     "execution_count": 100,
     "metadata": {},
     "output_type": "execute_result"
    }
   ],
   "source": [
    "work_complex(1, 1)"
   ]
  },
  {
   "cell_type": "code",
   "execution_count": 101,
   "metadata": {},
   "outputs": [
    {
     "ename": "ZeroDivisionError",
     "evalue": " real must be != 0",
     "output_type": "error",
     "traceback": [
      "\u001b[1;31m---------------------------------------------------------------------------\u001b[0m",
      "\u001b[1;31mZeroDivisionError\u001b[0m                         Traceback (most recent call last)",
      "\u001b[1;32m<ipython-input-101-4d19bb273db7>\u001b[0m in \u001b[0;36m<module>\u001b[1;34m()\u001b[0m\n\u001b[1;32m----> 1\u001b[1;33m \u001b[0mwork_complex\u001b[0m\u001b[1;33m(\u001b[0m\u001b[1;36m0\u001b[0m\u001b[1;33m,\u001b[0m \u001b[1;36m3\u001b[0m\u001b[1;33m)\u001b[0m\u001b[1;33m\u001b[0m\u001b[0m\n\u001b[0m",
      "\u001b[1;32m<ipython-input-99-5c23b93b7e79>\u001b[0m in \u001b[0;36mwork_complex\u001b[1;34m(real, image)\u001b[0m\n\u001b[0;32m     15\u001b[0m     \"\"\"\n\u001b[0;32m     16\u001b[0m     \u001b[1;32mif\u001b[0m \u001b[1;33m(\u001b[0m\u001b[0mreal\u001b[0m \u001b[1;33m==\u001b[0m \u001b[1;36m0\u001b[0m\u001b[1;33m)\u001b[0m\u001b[1;33m:\u001b[0m\u001b[1;33m\u001b[0m\u001b[0m\n\u001b[1;32m---> 17\u001b[1;33m         \u001b[1;32mraise\u001b[0m \u001b[0mZeroDivisionError\u001b[0m\u001b[1;33m(\u001b[0m\u001b[1;34m\" real must be != 0\"\u001b[0m\u001b[1;33m)\u001b[0m\u001b[1;33m\u001b[0m\u001b[0m\n\u001b[0m\u001b[0;32m     18\u001b[0m \u001b[1;33m\u001b[0m\u001b[0m\n\u001b[0;32m     19\u001b[0m     \u001b[0mmodule\u001b[0m \u001b[1;33m=\u001b[0m \u001b[0mmath\u001b[0m\u001b[1;33m.\u001b[0m\u001b[0msqrt\u001b[0m\u001b[1;33m(\u001b[0m\u001b[0mreal\u001b[0m\u001b[1;33m**\u001b[0m\u001b[1;36m2\u001b[0m \u001b[1;33m+\u001b[0m \u001b[0mimage\u001b[0m\u001b[1;33m**\u001b[0m\u001b[1;36m2\u001b[0m\u001b[1;33m)\u001b[0m\u001b[1;33m\u001b[0m\u001b[0m\n",
      "\u001b[1;31mZeroDivisionError\u001b[0m:  real must be != 0"
     ]
    }
   ],
   "source": [
    "work_complex(0, 3)"
   ]
  },
  {
   "cell_type": "code",
   "execution_count": 102,
   "metadata": {},
   "outputs": [
    {
     "data": {
      "text/plain": [
       "tuple"
      ]
     },
     "execution_count": 102,
     "metadata": {},
     "output_type": "execute_result"
    }
   ],
   "source": [
    "type(work_complex(3, 4))"
   ]
  },
  {
   "cell_type": "markdown",
   "metadata": {},
   "source": [
    "__________________________________________________________"
   ]
  },
  {
   "cell_type": "markdown",
   "metadata": {},
   "source": [
    "5)"
   ]
  },
  {
   "cell_type": "code",
   "execution_count": 111,
   "metadata": {},
   "outputs": [
    {
     "data": {
      "text/plain": [
       "TestResults(failed=0, attempted=3)"
      ]
     },
     "execution_count": 111,
     "metadata": {},
     "output_type": "execute_result"
    }
   ],
   "source": [
    "import doctest\n",
    "doctest.testmod()"
   ]
  },
  {
   "cell_type": "markdown",
   "metadata": {},
   "source": [
    "____________________________"
   ]
  },
  {
   "cell_type": "markdown",
   "metadata": {},
   "source": [
    "6)"
   ]
  },
  {
   "cell_type": "code",
   "execution_count": 112,
   "metadata": {
    "collapsed": true
   },
   "outputs": [],
   "source": [
    "class complexnyy:\n",
    "    \n",
    "    def __init__ (self, real, image):\n",
    "        self._real = real\n",
    "        self._image = image\n",
    "        \n",
    "    def __add__(self, obj):\n",
    "        return complexnyy(self._real + obj._real, self._image + obj._image)\n",
    "    \n",
    "    def __iadd__(self, obj):\n",
    "        self._real += obj._real\n",
    "        self._image += obj._image\n",
    "        return self\n",
    "    \n",
    "    def __sub__(self, obj):\n",
    "        return complexnyy(self._real - obj._real, self._image - obj._image)\n",
    "\n",
    "    def __isub__(self, obj):\n",
    "        self._real -= obj._real\n",
    "        self._image -= obj._image\n",
    "        return self\n",
    "        \n",
    "    def print_complex(self):\n",
    "        print(\"{0} + {1}i\".format(self._real, self._image))\n",
    "        \n",
    "    def module(self):\n",
    "        return math.sqrt(self._real**2 + self._image**2)\n",
    "    \n",
    "    def getReal(self):\n",
    "        return self._real\n",
    "        \n",
    "    def setReal(self, real):\n",
    "        self._real = real"
   ]
  },
  {
   "cell_type": "code",
   "execution_count": 113,
   "metadata": {},
   "outputs": [
    {
     "name": "stdout",
     "output_type": "stream",
     "text": [
      "5.0\n",
      "3 + 4i\n",
      "7 + 7i\n",
      "7 + 7i\n",
      "3 + 4i\n"
     ]
    }
   ],
   "source": [
    "new_complex1 = complexnyy(3, 4)\n",
    "new_complex2 = complexnyy(4, 3)\n",
    "print(new_complex1.module())\n",
    "new_complex1.print_complex()\n",
    "new_complex_plus = new_complex1 + new_complex2\n",
    "new_complex1 += new_complex2\n",
    "new_complex_plus.print_complex()\n",
    "new_complex1.print_complex()\n",
    "new_complex_neg = new_complex1 - new_complex2\n",
    "new_complex_neg.print_complex()"
   ]
  },
  {
   "cell_type": "markdown",
   "metadata": {},
   "source": [
    "_______________________"
   ]
  },
  {
   "cell_type": "markdown",
   "metadata": {},
   "source": [
    "7)"
   ]
  },
  {
   "cell_type": "code",
   "execution_count": 114,
   "metadata": {
    "collapsed": true
   },
   "outputs": [],
   "source": [
    "import time\n",
    "\n",
    "def timer(f):\n",
    "    def tmp(*args, **kwargs):\n",
    "        start_time = time.time()\n",
    "        result = f(*args, **kwargs)\n",
    "        #finish_time = time.time()\n",
    "        print(\"Time of work\", time.time() - start_time)\n",
    "        return result\n",
    "\n",
    "    return tmp"
   ]
  },
  {
   "cell_type": "code",
   "execution_count": 115,
   "metadata": {
    "collapsed": true
   },
   "outputs": [],
   "source": [
    "@timer\n",
    "def factorial(n):\n",
    "    result = 1\n",
    "    for i in range(1, n+1):\n",
    "        result *= i\n",
    "        \n",
    "    return result"
   ]
  },
  {
   "cell_type": "code",
   "execution_count": 116,
   "metadata": {},
   "outputs": [
    {
     "name": "stdout",
     "output_type": "stream",
     "text": [
      "Time of work 0.037871360778808594\n",
      "Time of work 0.0479130744934082\n",
      "Time of work 0.04388427734375\n",
      "Time of work 0.05385279655456543\n",
      "Time of work 0.05380964279174805\n",
      "Time of work 0.052893877029418945\n",
      "Time of work 0.04389500617980957\n",
      "Time of work 0.05281639099121094\n",
      "Time of work 0.05287051200866699\n",
      "Time of work 0.05396008491516113\n",
      "Time of work 0.05388188362121582\n",
      "Time of work 0.05495476722717285\n",
      "Time of work 0.05380558967590332\n",
      "Time of work 0.05385255813598633\n",
      "Time of work 0.05385613441467285\n",
      "Time of work 0.05395197868347168\n",
      "Time of work 0.05384397506713867\n",
      "Time of work 0.053871870040893555\n",
      "Time of work 0.05385398864746094\n",
      "Time of work 0.052864789962768555\n"
     ]
    }
   ],
   "source": [
    "for n in range(10000, 10020):\n",
    "    a = factorial(n)"
   ]
  },
  {
   "cell_type": "code",
   "execution_count": 117,
   "metadata": {
    "collapsed": true
   },
   "outputs": [],
   "source": [
    "def cache(f):\n",
    "    dict_mem = {}\n",
    "    \n",
    "    def tmp(*args, **kwargs):\n",
    "        if (args in dict_mem):\n",
    "            return dict_mem[args]\n",
    "        result = f(*args, **kwargs)\n",
    "        dict_mem[args] = result\n",
    "        return result\n",
    "\n",
    "    return tmp"
   ]
  },
  {
   "cell_type": "code",
   "execution_count": 118,
   "metadata": {
    "collapsed": true
   },
   "outputs": [],
   "source": [
    "@cache\n",
    "@timer\n",
    "def fib(n):\n",
    "    if ((n == 1) or (n == 0)):\n",
    "        return 1;\n",
    "    return fib(n-1) + fib(n-2)"
   ]
  },
  {
   "cell_type": "code",
   "execution_count": 119,
   "metadata": {},
   "outputs": [
    {
     "name": "stdout",
     "output_type": "stream",
     "text": [
      "Time of work 0.0\n",
      "1\n",
      "Time of work 0.0\n",
      "1\n",
      "Time of work 0.0\n",
      "2\n",
      "Time of work 0.0\n",
      "3\n",
      "Time of work 0.0\n",
      "5\n",
      "Time of work 0.0\n",
      "8\n",
      "Time of work 0.0\n",
      "13\n",
      "Time of work 0.0\n",
      "21\n",
      "Time of work 0.0\n",
      "34\n",
      "Time of work 0.0\n",
      "55\n",
      "Time of work 0.0\n",
      "89\n",
      "Time of work 0.0\n",
      "144\n",
      "Time of work 0.0\n",
      "233\n",
      "Time of work 0.0\n",
      "377\n",
      "Time of work 0.0\n",
      "610\n",
      "Time of work 0.0\n",
      "987\n",
      "Time of work 0.0\n",
      "1597\n",
      "Time of work 0.0\n",
      "2584\n",
      "Time of work 0.0\n",
      "4181\n",
      "Time of work 0.0\n",
      "6765\n",
      "Time of work 0.0\n",
      "10946\n",
      "Time of work 0.0\n",
      "17711\n",
      "Time of work 0.0\n",
      "28657\n",
      "Time of work 0.0\n",
      "46368\n",
      "Time of work 0.0\n",
      "75025\n"
     ]
    }
   ],
   "source": [
    "for n in range(25):\n",
    "    print(fib(n))\n",
    "    "
   ]
  },
  {
   "cell_type": "code",
   "execution_count": 120,
   "metadata": {
    "collapsed": true
   },
   "outputs": [],
   "source": [
    "@timer\n",
    "@cache\n",
    "def fib(n):\n",
    "    if ((n == 1) or (n == 0)):\n",
    "        return 1;\n",
    "    return fib(n-1) + fib(n-2)"
   ]
  },
  {
   "cell_type": "code",
   "execution_count": 121,
   "metadata": {},
   "outputs": [
    {
     "name": "stdout",
     "output_type": "stream",
     "text": [
      "Time of work 0.0\n",
      "1\n",
      "Time of work 0.0\n",
      "1\n",
      "Time of work 0.0\n",
      "Time of work 0.0\n",
      "Time of work 0.0\n",
      "2\n",
      "Time of work 0.0\n",
      "Time of work 0.0\n",
      "Time of work 0.0\n",
      "3\n",
      "Time of work 0.0\n",
      "Time of work 0.0\n",
      "Time of work 0.0\n",
      "5\n",
      "Time of work 0.0\n",
      "Time of work 0.0\n",
      "Time of work 0.0005543231964111328\n",
      "8\n",
      "Time of work 0.0\n",
      "Time of work 0.0\n",
      "Time of work 0.0\n",
      "13\n",
      "Time of work 0.0\n",
      "Time of work 0.0\n",
      "Time of work 0.0\n",
      "21\n",
      "Time of work 0.0\n",
      "Time of work 0.0\n",
      "Time of work 0.0004425048828125\n",
      "34\n",
      "Time of work 0.0\n",
      "Time of work 0.0\n",
      "Time of work 0.0\n",
      "55\n",
      "Time of work 0.0\n",
      "Time of work 0.0\n",
      "Time of work 0.0\n",
      "89\n",
      "Time of work 0.0\n",
      "Time of work 0.0\n",
      "Time of work 0.0\n",
      "144\n",
      "Time of work 0.0\n",
      "Time of work 0.0\n",
      "Time of work 0.0\n",
      "233\n",
      "Time of work 0.0\n",
      "Time of work 0.0\n",
      "Time of work 0.0\n",
      "377\n",
      "Time of work 0.0\n",
      "Time of work 0.0\n",
      "Time of work 0.0\n",
      "610\n",
      "Time of work 0.0\n",
      "Time of work 0.0\n",
      "Time of work 0.00010228157043457031\n",
      "987\n",
      "Time of work 0.0\n",
      "Time of work 0.0\n",
      "Time of work 0.0\n",
      "1597\n",
      "Time of work 0.0\n",
      "Time of work 0.0\n",
      "Time of work 0.0\n",
      "2584\n",
      "Time of work 0.0\n",
      "Time of work 0.0\n",
      "Time of work 0.0\n",
      "4181\n",
      "Time of work 0.0\n",
      "Time of work 0.0\n",
      "Time of work 0.0\n",
      "6765\n",
      "Time of work 0.0\n",
      "Time of work 0.0\n",
      "Time of work 0.0\n",
      "10946\n",
      "Time of work 0.0\n",
      "Time of work 0.0\n",
      "Time of work 0.0\n",
      "17711\n",
      "Time of work 0.0\n",
      "Time of work 0.0\n",
      "Time of work 0.0\n",
      "28657\n",
      "Time of work 0.0\n",
      "Time of work 0.0\n",
      "Time of work 0.0\n",
      "46368\n",
      "Time of work 0.0\n",
      "Time of work 0.0\n",
      "Time of work 0.0\n",
      "75025\n"
     ]
    }
   ],
   "source": [
    "for n in range(25):\n",
    "    print(fib(n))\n",
    "    "
   ]
  },
  {
   "cell_type": "markdown",
   "metadata": {},
   "source": [
    "__________________________________"
   ]
  },
  {
   "cell_type": "markdown",
   "metadata": {},
   "source": [
    "8)"
   ]
  },
  {
   "cell_type": "markdown",
   "metadata": {},
   "source": [
    "Преимущество задания параметров через property заключается в том, что они являются интуитивно понятными, то есть можно присвоить значения, и работать с ними как со стандартными атрибутами класса. Это понятнее, чем то, что описано ниже (хотя, лично я привык к такой записи)"
   ]
  },
  {
   "cell_type": "code",
   "execution_count": 154,
   "metadata": {
    "collapsed": true
   },
   "outputs": [],
   "source": [
    "class point:\n",
    "    \n",
    "    def __init__(self, value_x = None, value_y = None):\n",
    "        self.__x = value_x\n",
    "        self.__y = value_y\n",
    "    \n",
    "    def get_x(self):\n",
    "        return self.__x\n",
    "    \n",
    "    def set_x(self, value_x):\n",
    "        self.__x = value_x\n",
    "    \n",
    "    def get_y(self):\n",
    "        return self.__y\n",
    "    \n",
    "    def set_y(self, value_y):\n",
    "        self.__y = value_y"
   ]
  },
  {
   "cell_type": "code",
   "execution_count": 159,
   "metadata": {},
   "outputs": [
    {
     "name": "stdout",
     "output_type": "stream",
     "text": [
      "1\n",
      "5\n",
      "   \n",
      "3\n",
      "-100\n"
     ]
    }
   ],
   "source": [
    "p = point(1, 3)\n",
    "\n",
    "print(p.get_x())    #getter\n",
    "p.set_x(5)          #setter\n",
    "print(p.get_x())    #getter\n",
    "\n",
    "print(\"   \")\n",
    "\n",
    "print(p.get_y())    #getter\n",
    "p.set_y(-100)       #setter\n",
    "print(p.get_y())    #getter"
   ]
  },
  {
   "cell_type": "markdown",
   "metadata": {},
   "source": [
    "__________________________"
   ]
  },
  {
   "cell_type": "markdown",
   "metadata": {},
   "source": [
    "9)"
   ]
  },
  {
   "cell_type": "code",
   "execution_count": 2,
   "metadata": {
    "collapsed": true
   },
   "outputs": [],
   "source": [
    "class complexnyy:\n",
    "    \n",
    "    def __init__(self, real = 0, image = 0):\n",
    "        self.__real = real\n",
    "        self.__image = image\n",
    "        \n",
    "    @property\n",
    "    def real(self):\n",
    "        return self.__real\n",
    "    \n",
    "    @real.getter\n",
    "    def get_real(self):\n",
    "        return self.__real\n",
    "    \n",
    "    @real.setter\n",
    "    def set_real(self, real_value):\n",
    "        self.__real = real_value\n",
    "        \n",
    "    @property\n",
    "    def image(self):\n",
    "        return self.__image\n",
    "    \n",
    "    @image.getter\n",
    "    def get_image(self):\n",
    "        return self.__image\n",
    "    \n",
    "    @image.setter\n",
    "    def set_image(self, image_value):\n",
    "        self.__image = image_value"
   ]
  },
  {
   "cell_type": "code",
   "execution_count": 6,
   "metadata": {},
   "outputs": [
    {
     "name": "stdout",
     "output_type": "stream",
     "text": [
      "0\n",
      "10\n",
      "0\n",
      "-5\n"
     ]
    }
   ],
   "source": [
    "c = complexnyy()\n",
    "\n",
    "print(c.get_real)    #getter\n",
    "c.set_real = 10      #setter\n",
    "print(c.get_real)    #getter\n",
    "\n",
    "print(c.get_image)              #getter\n",
    "c.set_image = c.get_image- 5    #setter\n",
    "print(c.get_image)              #getter "
   ]
  },
  {
   "cell_type": "code",
   "execution_count": null,
   "metadata": {
    "collapsed": true
   },
   "outputs": [],
   "source": []
  },
  {
   "cell_type": "code",
   "execution_count": null,
   "metadata": {
    "collapsed": true
   },
   "outputs": [],
   "source": []
  }
 ],
 "metadata": {
  "kernelspec": {
   "display_name": "Python 3",
   "language": "python",
   "name": "python3"
  },
  "language_info": {
   "codemirror_mode": {
    "name": "ipython",
    "version": 3
   },
   "file_extension": ".py",
   "mimetype": "text/x-python",
   "name": "python",
   "nbconvert_exporter": "python",
   "pygments_lexer": "ipython3",
   "version": "3.6.2"
  }
 },
 "nbformat": 4,
 "nbformat_minor": 2
}
